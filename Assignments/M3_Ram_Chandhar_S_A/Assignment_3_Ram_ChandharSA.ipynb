{
  "nbformat": 4,
  "nbformat_minor": 0,
  "metadata": {
    "colab": {
      "provenance": [],
      "collapsed_sections": []
    },
    "kernelspec": {
      "name": "python3",
      "display_name": "Python 3"
    },
    "language_info": {
      "name": "python"
    }
  },
  "cells": [
    {
      "cell_type": "markdown",
      "source": [
        "##Download and Unzip dataset"
      ],
      "metadata": {
        "id": "uYXv8gg3Bp8o"
      }
    },
    {
      "cell_type": "code",
      "execution_count": null,
      "metadata": {
        "id": "dHHzULW5-7AQ"
      },
      "outputs": [],
      "source": [
        "!unzip '/content/drive/MyDrive/Flowers-Dataset.zip'"
      ]
    },
    {
      "cell_type": "markdown",
      "source": [
        "## Image Augmentation"
      ],
      "metadata": {
        "id": "tyr1F-nIB9XG"
      }
    },
    {
      "cell_type": "code",
      "source": [
        "from tensorflow.keras.preprocessing.image import ImageDataGenerator\n",
        "train_data = ImageDataGenerator(rescale=1./255,\n",
        "                                   zoom_range=0.2,\n",
        "                                   horizontal_flip=True)\n",
        "\n",
        "test_data = ImageDataGenerator(rescale=1./255)"
      ],
      "metadata": {
        "id": "KplA8rXjB8KY"
      },
      "execution_count": null,
      "outputs": []
    },
    {
      "cell_type": "code",
      "source": [
        "xtrain=train_data.flow_from_directory('/content/flowers',\n",
        "                                         target_size=(76,76),\n",
        "                                         class_mode='categorical',\n",
        "                                         batch_size=100)"
      ],
      "metadata": {
        "id": "njXIges_CfWm"
      },
      "execution_count": null,
      "outputs": []
    },
    {
      "cell_type": "code",
      "source": [
        "xtest=test_data.flow_from_directory('/content/flowers',\n",
        "                                         target_size=(76,76),\n",
        "                                         class_mode='categorical',\n",
        "                                         batch_size=100)"
      ],
      "metadata": {
        "id": "B8Zyg-rJCiOI"
      },
      "execution_count": null,
      "outputs": []
    },
    {
      "cell_type": "markdown",
      "source": [
        "## Create a model"
      ],
      "metadata": {
        "id": "Em9a0hy-Ck6k"
      }
    },
    {
      "cell_type": "code",
      "source": [
        "from tensorflow.keras.models import Sequential\n",
        "from tensorflow.keras.layers import Convolution2D, MaxPooling2D, Flatten, Dense\n",
        "model = Sequential()"
      ],
      "metadata": {
        "id": "xJ1ZZhWPCjcI"
      },
      "execution_count": null,
      "outputs": []
    },
    {
      "cell_type": "markdown",
      "source": [
        "## Add Layers (Convolution,MaxPooling,Flatten,Dense-(Hidden Layers),Output)\n"
      ],
      "metadata": {
        "id": "-qz-lxMBCuy-"
      }
    },
    {
      "cell_type": "code",
      "source": [
        "model.add(Convolution2D(32,(3,3),activation='relu',input_shape=(64,64,3))) \n",
        "model.add(MaxPooling2D(pool_size=(2, 2))) \n",
        "model.add(Flatten())\n",
        "model.add(Dense(300,activation='relu')) \n",
        "model.add(Dense(150,activation='relu')) \n",
        "model.add(Dense(4,activation='softmax'))"
      ],
      "metadata": {
        "id": "nYAsGjRMDDXv"
      },
      "execution_count": null,
      "outputs": []
    },
    {
      "cell_type": "markdown",
      "source": [
        "## Compile The Model"
      ],
      "metadata": {
        "id": "MRAP9GkZDJfn"
      }
    },
    {
      "cell_type": "code",
      "source": [
        "model.compile(optimizer='adam',loss='categorical_crossentropy',metrics=['accuracy'])"
      ],
      "metadata": {
        "id": "d_c5tHdDDNJI"
      },
      "execution_count": null,
      "outputs": []
    },
    {
      "cell_type": "markdown",
      "source": [
        "## Fit The Model"
      ],
      "metadata": {
        "id": "L03dLjRbDQbR"
      }
    },
    {
      "cell_type": "code",
      "source": [
        "model.fit_generator(xtrain,steps_per_epoch= len(xtrain),epochs= 10,validation_data=xtest,validation_steps= len(xtest))"
      ],
      "metadata": {
        "id": "PdznQJkkDkuN"
      },
      "execution_count": null,
      "outputs": []
    },
    {
      "cell_type": "markdown",
      "source": [
        "## Save tha Model"
      ],
      "metadata": {
        "id": "0Xwd4MK_DoFd"
      }
    },
    {
      "cell_type": "code",
      "source": [
        "model.save('flower.h5')"
      ],
      "metadata": {
        "id": "InXgJWv_Ejdm"
      },
      "execution_count": null,
      "outputs": []
    },
    {
      "cell_type": "markdown",
      "source": [
        "## Test The Model"
      ],
      "metadata": {
        "id": "jzXX_PpSEovC"
      }
    },
    {
      "cell_type": "code",
      "source": [
        "from tensorflow.keras.preprocessing import image\n",
        "import numpy as np"
      ],
      "metadata": {
        "id": "-Q3YZPL2E1qM"
      },
      "execution_count": null,
      "outputs": []
    },
    {
      "cell_type": "code",
      "source": [
        "img=image.load_img('/content/flowers/daisy/12891819633_e4c82b51e8.jpg',target_size=(76,76))\n",
        "img"
      ],
      "metadata": {
        "id": "fT5vfsnjE5kU"
      },
      "execution_count": null,
      "outputs": []
    },
    {
      "cell_type": "code",
      "source": [
        "x=image.img_to_array(img)\n",
        "x"
      ],
      "metadata": {
        "id": "UIwvg8HFE7HO"
      },
      "execution_count": null,
      "outputs": []
    },
    {
      "cell_type": "code",
      "source": [
        "x= np.expand_dims(x,axis=0)\n",
        "x"
      ],
      "metadata": {
        "id": "QjXcJaRxFCGH"
      },
      "execution_count": null,
      "outputs": []
    },
    {
      "cell_type": "code",
      "source": [
        "pred = np.argmax(model.predict(x))\n",
        "pred\n",
        "op=['sunflower','dandelion','rose','daisy','tulip']\n",
        "op[pred]"
      ],
      "metadata": {
        "id": "WdLw682gFIpG"
      },
      "execution_count": null,
      "outputs": []
    },
    {
      "cell_type": "code",
      "source": [
        "img=image.load_img('/content/flowers/rose/14166797345_d2ab9da518.jpg',target_size=(76,76))\n",
        "img"
      ],
      "metadata": {
        "id": "hqtSdODhFM_P"
      },
      "execution_count": null,
      "outputs": []
    },
    {
      "cell_type": "code",
      "source": [
        "x=image.img_to_array(img)\n",
        "x\n",
        "x=np.expand_dims(x,axis=0)\n",
        "x"
      ],
      "metadata": {
        "id": "PqJoQfOnFpmW"
      },
      "execution_count": null,
      "outputs": []
    },
    {
      "cell_type": "code",
      "source": [
        "pred=np.argmax(model.predict(x))\n",
        "pred\n",
        "op=['daisy','dandelion','sunflower','rose','tulip']\n",
        "op[pred]"
      ],
      "metadata": {
        "id": "2UIAWQPCFwN8"
      },
      "execution_count": null,
      "outputs": []
    }
  ]
}